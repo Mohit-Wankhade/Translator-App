{
 "cells": [
  {
   "cell_type": "code",
   "execution_count": 2,
   "metadata": {},
   "outputs": [
    {
     "name": "stdout",
     "output_type": "stream",
     "text": [
      "Requirement already satisfied: translate in c:\\users\\wmohi\\appdata\\local\\programs\\python\\python310\\lib\\site-packages (3.6.1)\n",
      "Requirement already satisfied: click in c:\\users\\wmohi\\appdata\\local\\programs\\python\\python310\\lib\\site-packages (from translate) (8.1.3)\n",
      "Requirement already satisfied: lxml in c:\\users\\wmohi\\appdata\\local\\programs\\python\\python310\\lib\\site-packages (from translate) (4.9.2)\n",
      "Requirement already satisfied: requests in c:\\users\\wmohi\\appdata\\local\\programs\\python\\python310\\lib\\site-packages (from translate) (2.28.2)\n",
      "Requirement already satisfied: libretranslatepy==2.1.1 in c:\\users\\wmohi\\appdata\\local\\programs\\python\\python310\\lib\\site-packages (from translate) (2.1.1)\n",
      "Requirement already satisfied: colorama in c:\\users\\wmohi\\appdata\\local\\programs\\python\\python310\\lib\\site-packages (from click->translate) (0.4.6)\n",
      "Requirement already satisfied: charset-normalizer<4,>=2 in c:\\users\\wmohi\\appdata\\local\\programs\\python\\python310\\lib\\site-packages (from requests->translate) (3.1.0)\n",
      "Requirement already satisfied: idna<4,>=2.5 in c:\\users\\wmohi\\appdata\\local\\programs\\python\\python310\\lib\\site-packages (from requests->translate) (3.4)\n",
      "Requirement already satisfied: urllib3<1.27,>=1.21.1 in c:\\users\\wmohi\\appdata\\local\\programs\\python\\python310\\lib\\site-packages (from requests->translate) (1.26.15)\n",
      "Requirement already satisfied: certifi>=2017.4.17 in c:\\users\\wmohi\\appdata\\local\\programs\\python\\python310\\lib\\site-packages (from requests->translate) (2022.12.7)\n",
      "Note: you may need to restart the kernel to use updated packages.\n"
     ]
    },
    {
     "name": "stderr",
     "output_type": "stream",
     "text": [
      "\n",
      "[notice] A new release of pip is available: 23.1.1 -> 23.1.2\n",
      "[notice] To update, run: python.exe -m pip install --upgrade pip\n"
     ]
    }
   ],
   "source": [
    "%pip install translate\n"
   ]
  },
  {
   "cell_type": "code",
   "execution_count": 3,
   "metadata": {},
   "outputs": [],
   "source": [
    "from translate import Translator\n"
   ]
  },
  {
   "cell_type": "code",
   "execution_count": 4,
   "metadata": {},
   "outputs": [],
   "source": [
    "def translate_text(text, source_language, target_language):\n",
    "    translator = Translator(from_lang=source_language, to_lang=target_language)\n",
    "    translation = translator.translate(text)\n",
    "    return translation\n"
   ]
  },
  {
   "cell_type": "code",
   "execution_count": 9,
   "metadata": {},
   "outputs": [
    {
     "name": "stdout",
     "output_type": "stream",
     "text": [
      "Translated text: आपका दिन कैसा बीता\n"
     ]
    }
   ],
   "source": [
    "input_text = input('Enter Your Text')\n",
    "source_language = \"English\"\n",
    "target_language = \"Hindi\"\n",
    "\n",
    "translated_text = translate_text(input_text, source_language, target_language)\n",
    "print(f\"Translated text: {translated_text}\")\n"
   ]
  }
 ],
 "metadata": {
  "kernelspec": {
   "display_name": "Python 3",
   "language": "python",
   "name": "python3"
  },
  "language_info": {
   "codemirror_mode": {
    "name": "ipython",
    "version": 3
   },
   "file_extension": ".py",
   "mimetype": "text/x-python",
   "name": "python",
   "nbconvert_exporter": "python",
   "pygments_lexer": "ipython3",
   "version": "3.10.4"
  },
  "orig_nbformat": 4
 },
 "nbformat": 4,
 "nbformat_minor": 2
}
